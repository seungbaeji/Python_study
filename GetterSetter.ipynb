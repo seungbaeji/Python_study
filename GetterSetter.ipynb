{
 "cells": [
  {
   "cell_type": "markdown",
   "metadata": {},
   "source": [
    "# Getter and Setter\n",
    "\n",
    "객체는 외부에서 직접 객체 내부의 값을 변경해서는 안됨<br>\n",
    "객체는 서로 독립적이어야 함.<br>\n",
    "외부에서 접근할 수 있도록 method를 만들어 줘야 함.<br>\n",
    "Java와 같은 객체지향 언어에서는 외부에서 접근 가능하지 않은 private 객체속성을 지원.<br>\n",
    "\n",
    "하지만 Python에서는 모든 attribute와 method가 public.<br>\n",
    "때문에 Python에서는 **\"getter, setter 문법을 사용하지 않음\"**.<br>\n",
    "`@property` 라는 decorater를 통해 이를 구현.<br>\n",
    "즉, 객체에 구현된 method를 통해서 attribute를 읽고 쓰는것을 권장.<br>\n"
   ]
  },
  {
   "cell_type": "code",
   "execution_count": null,
   "metadata": {
    "collapsed": true
   },
   "outputs": [],
   "source": []
  },
  {
   "cell_type": "code",
   "execution_count": null,
   "metadata": {
    "collapsed": true
   },
   "outputs": [],
   "source": []
  },
  {
   "cell_type": "code",
   "execution_count": null,
   "metadata": {
    "collapsed": true
   },
   "outputs": [],
   "source": []
  },
  {
   "cell_type": "code",
   "execution_count": null,
   "metadata": {
    "collapsed": true
   },
   "outputs": [],
   "source": []
  }
 ],
 "metadata": {
  "kernelspec": {
   "display_name": "Python 3",
   "language": "python",
   "name": "python3"
  },
  "language_info": {
   "codemirror_mode": {
    "name": "ipython",
    "version": 3
   },
   "file_extension": ".py",
   "mimetype": "text/x-python",
   "name": "python",
   "nbconvert_exporter": "python",
   "pygments_lexer": "ipython3",
   "version": "3.6.2"
  }
 },
 "nbformat": 4,
 "nbformat_minor": 2
}
