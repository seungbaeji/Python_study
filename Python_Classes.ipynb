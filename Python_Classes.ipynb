{
 "cells": [
  {
   "cell_type": "markdown",
   "metadata": {},
   "source": [
    "# Class\n",
    "\n",
    "객체지향 프로그래밍(Object Oriented Programming, OOP)을 가능하게 해주는 요소.   \n",
    "추상화(Abstraction), 상속(Inheritance), 다형성(Polymorphism), 정보은닉(Information Hiding)등의 개념이 사용됨.  \n",
    "\n",
    "Python에서는 Class 정의와 동시에 class 객체가 생성. Global name space에서 이를 확인 가능함.  "
   ]
  },
  {
   "cell_type": "code",
   "execution_count": 1,
   "metadata": {
    "collapsed": true
   },
   "outputs": [],
   "source": [
    "class Person(object):\n",
    "    \"\"\"\n",
    "    class docstring\n",
    "    \"\"\"\n",
    "    name = \"Python\"\n",
    "    def print(self):\n",
    "        print(f\"My Name is {self.name}\")"
   ]
  },
  {
   "cell_type": "code",
   "execution_count": 2,
   "metadata": {},
   "outputs": [
    {
     "name": "stdout",
     "output_type": "stream",
     "text": [
      "['In', 'Out', 'Person', '_', '__', '___', '__builtin__', '__builtins__', '__doc__', '__loader__', '__name__', '__package__', '__spec__', '_dh', '_i', '_i1', '_i2', '_ih', '_ii', '_iii', '_oh', 'exit', 'get_ipython', 'math', 'mpl', 'np', 'plt', 'quit', 'sk', 'sns', 'sp']\n"
     ]
    }
   ],
   "source": [
    "# Global name space\n",
    "print(dir())"
   ]
  },
  {
   "cell_type": "markdown",
   "metadata": {},
   "source": [
    "# Instance\n",
    "\n",
    "Instance 객체생성은 class의 이름을 사용해 함수를 호출하는 형태.  \n",
    "Class와 동일한 모양의 instance 객체가 생성되고, instance 객체만의 독립적인 name space가 생성.  \n",
    "\n",
    "Instance 객체의 data가 변경되면, class 객체의 data와 구분하기 위해, instance 객체의 name space에 변경된 data를 저장. 반면에 아직 변경되지 않은 data와 method는 여전히 class 객체와 공유.  "
   ]
  },
  {
   "cell_type": "code",
   "execution_count": 3,
   "metadata": {},
   "outputs": [
    {
     "name": "stdout",
     "output_type": "stream",
     "text": [
      "My Name is Python\n",
      "My Name is seungbae\n"
     ]
    }
   ],
   "source": [
    "p1 = Person()\n",
    "p1.print()\n",
    "\n",
    "p1.name = \"seungbae\"\n",
    "p1.print()"
   ]
  },
  {
   "cell_type": "markdown",
   "metadata": {},
   "source": [
    "### - Name space\n",
    "\n",
    "Global name space에는 class 객체와 instance 객체가 정의된 변수가 할당되어 있음.  \n",
    "그리고 class 객체와 instance 객체는 독자적인 name space를 갖으며, 필요한 변수들을 각자 관리.  \n",
    "\n",
    "Instance 객체를 통해 attribute나 method의 이름을 찾는 경우는 아래의 순서로 찾음.  \n",
    "<center>Instance 객체 name space $\\rightarrow$ Class 객체 name space $\\rightarrow$ Global name space</center>\n",
    "\n",
    "위의 순서로 변수나 함수의 이름을 찾지 못하는 경우는 `AttributeError Exception`이 발생. \n",
    "\n",
    "Name space를 확인하기 위한 함수는 `dir()` 함수.  "
   ]
  },
  {
   "cell_type": "code",
   "execution_count": 13,
   "metadata": {},
   "outputs": [
    {
     "name": "stdout",
     "output_type": "stream",
     "text": [
      "Global name space:  ['CounterManager', 'GString', 'In', 'Out', 'Person', '_', '__', '___', '__builtin__', '__builtins__', '__doc__', '__loader__', '__name__', '__package__', '__spec__', '_dh', '_i', '_i1', '_i10', '_i11', '_i12', '_i13', '_i2', '_i3', '_i4', '_i5', '_i6', '_i7', '_i8', '_i9', '_ih', '_ii', '_iii', '_oh', 'exit', 'g', 'get_ipython', 'math', 'message', 'mpl', 'np', 'p1', 'p2', 'plt', 'quit', 'sk', 'sns', 'sp']\n",
      "\n",
      "Class Person name space: ['__class__', '__delattr__', '__dict__', '__dir__', '__doc__', '__eq__', '__format__', '__ge__', '__getattribute__', '__gt__', '__hash__', '__init__', '__init_subclass__', '__le__', '__lt__', '__module__', '__ne__', '__new__', '__reduce__', '__reduce_ex__', '__repr__', '__setattr__', '__sizeof__', '__str__', '__subclasshook__', '__weakref__', 'job', 'name', 'print']\n",
      "\n",
      "Instance p1 name space:  ['__class__', '__delattr__', '__dict__', '__dir__', '__doc__', '__eq__', '__format__', '__ge__', '__getattribute__', '__gt__', '__hash__', '__init__', '__init_subclass__', '__le__', '__lt__', '__module__', '__ne__', '__new__', '__reduce__', '__reduce_ex__', '__repr__', '__setattr__', '__sizeof__', '__str__', '__subclasshook__', '__weakref__', 'age', 'job', 'name', 'print']\n",
      "\n"
     ]
    }
   ],
   "source": [
    "# Name space check\n",
    "print('Global name space: ', dir(), end='\\n\\n')\n",
    "print('Class Person name space:', dir(Person), end='\\n\\n')\n",
    "print('Instance p1 name space: ', dir(p1), end='\\n\\n')"
   ]
  },
  {
   "cell_type": "markdown",
   "metadata": {},
   "source": [
    "Python에서는 class객체와 instance객체에 동적으로 attribute를 추가/삭제 가능. "
   ]
  },
  {
   "cell_type": "code",
   "execution_count": 5,
   "metadata": {},
   "outputs": [
    {
     "name": "stdout",
     "output_type": "stream",
     "text": [
      "p1 name is seungbae\n",
      "p2 name is Python\n"
     ]
    }
   ],
   "source": [
    "p1 = Person()\n",
    "p2 = Person()\n",
    "\n",
    "p1.name = \"seungbae\"\n",
    "\n",
    "print(f\"p1 name is {p1.name}\", f\"p2 name is {p2.name}\", sep='\\n')"
   ]
  },
  {
   "cell_type": "markdown",
   "metadata": {},
   "source": [
    "Class에 `job`이라는 `attribute`를 추가.  "
   ]
  },
  {
   "cell_type": "code",
   "execution_count": 6,
   "metadata": {},
   "outputs": [
    {
     "name": "stdout",
     "output_type": "stream",
     "text": [
      "p1's job is programmer\n",
      "p2's job is programmer\n"
     ]
    }
   ],
   "source": [
    "Person.job = \"programmer\"\n",
    "print(f\"p1's job is {p1.job}\", f\"p2's job is {p2.job}\", sep='\\n')"
   ]
  },
  {
   "cell_type": "markdown",
   "metadata": {},
   "source": [
    "# Method\n",
    "\n",
    "Class의 Method는 보통 첫번째 parameter로 `self`가 존재.  \n",
    "**\"self는 instance 객체\"**를 가리키는 것. self를 통해 instance 객체의 name space에 접근.  \n",
    "\n",
    "### - Bound method\n",
    "\n",
    "암묵적(implicit)으로 첫번째 parameter로 instance 객체를 넘기는 호출 방식.  \n",
    "Method를 정의할 때 첫번째 parameter가 instance 객체임을 선언하나, 호출할 때는 자동으로 반영됨.  \n",
    "\n",
    "### - Unbound method\n",
    "명시적(explicit)으로 첫번째 parameter로 instance 객체를 넘기는 호출 방식.  \n",
    "Method 호출시 명시적으로 첫번째 parameter를 instance 객체로 전달. 이때는 class 객체를 통해 method를 호출.  "
   ]
  },
  {
   "cell_type": "code",
   "execution_count": 7,
   "metadata": {},
   "outputs": [
    {
     "name": "stdout",
     "output_type": "stream",
     "text": [
      "My Name is seungbae\n",
      "My Name is seungbae\n"
     ]
    }
   ],
   "source": [
    "# Bound method\n",
    "p1.print()\n",
    "\n",
    "# Unbound method\n",
    "Person.print(p1)"
   ]
  },
  {
   "cell_type": "code",
   "execution_count": null,
   "metadata": {
    "collapsed": true
   },
   "outputs": [],
   "source": []
  },
  {
   "cell_type": "markdown",
   "metadata": {},
   "source": []
  },
  {
   "cell_type": "code",
   "execution_count": null,
   "metadata": {
    "collapsed": true
   },
   "outputs": [],
   "source": []
  },
  {
   "cell_type": "markdown",
   "metadata": {},
   "source": [
    "Instance객체는 class에 접근이 가능한 `__class__` 이라는 `special attribute`를 갖고 있음.  "
   ]
  },
  {
   "cell_type": "code",
   "execution_count": 8,
   "metadata": {},
   "outputs": [
    {
     "name": "stdout",
     "output_type": "stream",
     "text": [
      "p1's job is developer\n",
      "p2's job is developer\n",
      "\n",
      "p1's job is AI Pub CEO\n",
      "p2's job is developer\n"
     ]
    }
   ],
   "source": [
    "p2.__class__.job = \"developer\"\n",
    "print(f\"p1's job is {p1.job}\", f\"p2's job is {p2.job}\", sep='\\n', end='\\n\\n')\n",
    "\n",
    "p1.job = \"AI Pub CEO\"\n",
    "print(f\"p1's job is {p1.job}\", f\"p2's job is {p2.job}\", sep='\\n')"
   ]
  },
  {
   "cell_type": "code",
   "execution_count": 9,
   "metadata": {},
   "outputs": [
    {
     "name": "stdout",
     "output_type": "stream",
     "text": [
      "30\n"
     ]
    }
   ],
   "source": [
    "p1.age = 30\n",
    "print(p1.age)"
   ]
  },
  {
   "cell_type": "code",
   "execution_count": 10,
   "metadata": {},
   "outputs": [
    {
     "ename": "AttributeError",
     "evalue": "'Person' object has no attribute 'age'",
     "output_type": "error",
     "traceback": [
      "\u001b[0;31m---------------------------------------------------------------------------\u001b[0m",
      "\u001b[0;31mAttributeError\u001b[0m                            Traceback (most recent call last)",
      "\u001b[0;32m<ipython-input-10-47399023581d>\u001b[0m in \u001b[0;36m<module>\u001b[0;34m()\u001b[0m\n\u001b[0;32m----> 1\u001b[0;31m \u001b[0mprint\u001b[0m\u001b[0;34m(\u001b[0m\u001b[0mp2\u001b[0m\u001b[0;34m.\u001b[0m\u001b[0mage\u001b[0m\u001b[0;34m)\u001b[0m\u001b[0;34m\u001b[0m\u001b[0m\n\u001b[0m",
      "\u001b[0;31mAttributeError\u001b[0m: 'Person' object has no attribute 'age'"
     ]
    }
   ],
   "source": [
    "print(p2.age)"
   ]
  },
  {
   "cell_type": "markdown",
   "metadata": {},
   "source": [
    "Class method내에서 self를 통하지 않으면, global name space에 접근하여 변수를 찾음.  "
   ]
  },
  {
   "cell_type": "code",
   "execution_count": 11,
   "metadata": {},
   "outputs": [
    {
     "name": "stdout",
     "output_type": "stream",
     "text": [
      "NOT Class attribute\n"
     ]
    }
   ],
   "source": [
    "message = \"NOT Class attribute\"\n",
    "class GString(object):\n",
    "    message = \"\"\n",
    "    def set_message(self, msg):\n",
    "        self.message = msg\n",
    "    def print_message(self):\n",
    "        print(message)\n",
    "        \n",
    "g = GString()\n",
    "g.set_message(\"First message\")\n",
    "g.print_message()"
   ]
  },
  {
   "cell_type": "markdown",
   "metadata": {},
   "source": [
    "# Constructor and Destructor\n",
    "\n",
    "생성자(Constructor)와 소멸자(Destructor)는 `special method`를 통해 구현 가능.  \n",
    "생성자 method는 instance 객체가 생성될 때 자동으로 호출.  \n",
    "소멸자 method는 instance 객체의 `reference counter`가 0이 될때 호출.  "
   ]
  },
  {
   "cell_type": "code",
   "execution_count": null,
   "metadata": {
    "collapsed": true
   },
   "outputs": [],
   "source": []
  },
  {
   "cell_type": "code",
   "execution_count": null,
   "metadata": {
    "collapsed": true
   },
   "outputs": [],
   "source": []
  },
  {
   "cell_type": "markdown",
   "metadata": {},
   "source": [
    "# Decorator\n",
    "\n",
    "`@decorator_name`의 모양으로, 함수명 위에 적어주는 것.  "
   ]
  },
  {
   "cell_type": "code",
   "execution_count": 76,
   "metadata": {},
   "outputs": [
    {
     "ename": "TypeError",
     "evalue": "decorator() takes 0 positional arguments but 1 was given",
     "output_type": "error",
     "traceback": [
      "\u001b[0;31m---------------------------------------------------------------------------\u001b[0m",
      "\u001b[0;31mTypeError\u001b[0m                                 Traceback (most recent call last)",
      "\u001b[0;32m<ipython-input-76-94cb44db41c8>\u001b[0m in \u001b[0;36m<module>\u001b[0;34m()\u001b[0m\n\u001b[1;32m      5\u001b[0m     \u001b[0;32mpass\u001b[0m\u001b[0;34m\u001b[0m\u001b[0m\n\u001b[1;32m      6\u001b[0m \u001b[0;34m\u001b[0m\u001b[0m\n\u001b[0;32m----> 7\u001b[0;31m \u001b[0;34m@\u001b[0m\u001b[0mdecorator\u001b[0m\u001b[0;34m\u001b[0m\u001b[0m\n\u001b[0m\u001b[1;32m      8\u001b[0m \u001b[0;32mdef\u001b[0m \u001b[0mfunc_2\u001b[0m\u001b[0;34m(\u001b[0m\u001b[0;34m)\u001b[0m\u001b[0;34m:\u001b[0m\u001b[0;34m\u001b[0m\u001b[0m\n\u001b[1;32m      9\u001b[0m     \u001b[0;32mpass\u001b[0m\u001b[0;34m\u001b[0m\u001b[0m\n",
      "\u001b[0;31mTypeError\u001b[0m: decorator() takes 0 positional arguments but 1 was given"
     ]
    }
   ],
   "source": [
    "def decorator():\n",
    "    pass\n",
    "\n",
    "def func_1():\n",
    "    pass\n",
    "\n",
    "@decorator\n",
    "def func_2():\n",
    "    pass"
   ]
  },
  {
   "cell_type": "markdown",
   "metadata": {},
   "source": [
    "# Static method & Class method"
   ]
  },
  {
   "cell_type": "code",
   "execution_count": 12,
   "metadata": {
    "collapsed": true
   },
   "outputs": [],
   "source": [
    "class CounterManager(object):\n",
    "    ins_count = 0\n",
    "    \n",
    "    def __init__(self):\n",
    "        CounterManager.ins_count += 1\n",
    "        \n",
    "    @staticmethod\n",
    "    def static_print_count():\n",
    "        print(\"Instance count: \", CounterManager.insCount)\n",
    "        \n",
    "    @classmethod\n",
    "    def class_print_count(cls):\n",
    "        print(\"Instance count: \", cls.ins_count)"
   ]
  },
  {
   "cell_type": "markdown",
   "metadata": {},
   "source": [
    "# Inheritance\n",
    "\n",
    "상속(Inheritance)를 이용하면 다른 class의 특징을 그대로 사용가능함.  \n",
    "내장 자료형(list, tuple, dict, ...)의 상속은 매우 까다롭기 때문에 따로 주제를 잡아 다룸.  \n"
   ]
  },
  {
   "cell_type": "code",
   "execution_count": 73,
   "metadata": {
    "collapsed": true
   },
   "outputs": [],
   "source": []
  },
  {
   "cell_type": "markdown",
   "metadata": {},
   "source": [
    "상속받은 부모객체를 확인하는 방법은 아래와 같음.  "
   ]
  },
  {
   "cell_type": "code",
   "execution_count": 74,
   "metadata": {},
   "outputs": [
    {
     "name": "stdout",
     "output_type": "stream",
     "text": [
      "(<class 'object'>,)\n",
      "(<class 'list'>,)\n"
     ]
    }
   ],
   "source": []
  },
  {
   "cell_type": "code",
   "execution_count": 69,
   "metadata": {},
   "outputs": [
    {
     "name": "stdout",
     "output_type": "stream",
     "text": [
      "ExtendedList(e1, e2)\n",
      "[ListElement(e1), ListElement(e2)]\n",
      "\n",
      "[ListElement(e1), ListElement(e2), ListElement(e1), ListElement(e2)]\n",
      "[ListElement(e1), ListElement(e2), ListElement(e1), ListElement(e2), ListElement(e1), ListElement(e2)]\n"
     ]
    }
   ],
   "source": []
  },
  {
   "cell_type": "markdown",
   "metadata": {},
   "source": [
    "# References\n",
    "\n",
    "1. [빠르게 활용하는 파이썬 3.6 프로그래밍](http://wikibook.co.kr/python-36-programming/)\n",
    "2. [Python Documentation](https://docs.python.org/3/)"
   ]
  }
 ],
 "metadata": {
  "kernelspec": {
   "display_name": "Python 3",
   "language": "python",
   "name": "python3"
  },
  "language_info": {
   "codemirror_mode": {
    "name": "ipython",
    "version": 3
   },
   "file_extension": ".py",
   "mimetype": "text/x-python",
   "name": "python",
   "nbconvert_exporter": "python",
   "pygments_lexer": "ipython3",
   "version": "3.6.3"
  }
 },
 "nbformat": 4,
 "nbformat_minor": 2
}
