{
 "cells": [
  {
   "cell_type": "code",
   "execution_count": 1,
   "metadata": {},
   "outputs": [],
   "source": [
    "%matplotlib inline\n",
    "%load_ext autoreload\n",
    "%autoreload 2"
   ]
  },
  {
   "cell_type": "markdown",
   "metadata": {},
   "source": [
    "# Scipy\n",
    "\n",
    "Numpy의 기능을 사용하여 구축된 다양한 **과학 기술 컴퓨팅 알고리즘(scientific algorithm)을 제공**하는 패키지.  \n",
    "`ndarray`나 `ufunc`와 같이 Python에 확장기능을 제공하지는 않지만, **Fortran으로 작성된 코드를 Python에서** 사용할 수 있도록 제공.  \n",
    "\n",
    "현재 Scipy에 포함된 대부분의 함수는 Fortran으로 작성되었음. 더불어 **BLAS나 LAPACK의 함수를 사용하기 위한 저수준 함수**도 갖추어져 있음.  \n",
    "\n",
    "Scipy를 통해 Python이 MATLAB, IDL(Interactive Data Language), Octave, Scilab등에 필적할 수 있는 시스템으로 발전.  \n",
    "\n",
    "더불어 Scipy는 **Numpy의 모든 함수를 지원하며, 추가적인 서브 패키지를 지원.**  \n",
    "때문에 Numpy를 import하지 않아도, **Scipy를 통해 Numpy의 모든 함수를 동일하게 사용 가능.**  \n",
    "공식 [documentation](https://docs.scipy.org/doc/)과 Scipy의 docstring을 통해 자세한 내용을 확인 가능하며, 내역은 아래와 같음.  "
   ]
  },
  {
   "cell_type": "code",
   "execution_count": 11,
   "metadata": {},
   "outputs": [
    {
     "name": "stdout",
     "output_type": "stream",
     "text": [
      "\n",
      "SciPy: A scientific computing package for Python\n",
      "================================================\n",
      "\n",
      "Documentation is available in the docstrings and\n",
      "online at https://docs.scipy.org.\n",
      "\n",
      "Contents\n",
      "--------\n",
      "SciPy imports all the functions from the NumPy namespace, and in\n",
      "addition provides:\n",
      "\n",
      "Subpackages\n",
      "-----------\n",
      "Using any of these subpackages requires an explicit import.  For example,\n",
      "``import scipy.cluster``.\n",
      "\n",
      "::\n",
      "\n",
      " cluster                      --- Vector Quantization / Kmeans\n",
      " fftpack                      --- Discrete Fourier Transform algorithms\n",
      " integrate                    --- Integration routines\n",
      " interpolate                  --- Interpolation Tools\n",
      " io                           --- Data input and output\n",
      " linalg                       --- Linear algebra routines\n",
      " linalg.blas                  --- Wrappers to BLAS library\n",
      " linalg.lapack                --- Wrappers to LAPACK library\n",
      " misc                         --- Various utilities that don't have\n",
      "                                  another home.\n",
      " ndimage                      --- n-dimensional image package\n",
      " odr                          --- Orthogonal Distance Regression\n",
      " optimize                     --- Optimization Tools\n",
      " signal                       --- Signal Processing Tools\n",
      " sparse                       --- Sparse Matrices\n",
      " sparse.linalg                --- Sparse Linear Algebra\n",
      " sparse.linalg.dsolve         --- Linear Solvers\n",
      " sparse.linalg.dsolve.umfpack --- :Interface to the UMFPACK library:\n",
      "                                  Conjugate Gradient Method (LOBPCG)\n",
      " sparse.linalg.eigen          --- Sparse Eigenvalue Solvers\n",
      " sparse.linalg.eigen.lobpcg   --- Locally Optimal Block Preconditioned\n",
      "                                  Conjugate Gradient Method (LOBPCG)\n",
      " spatial                      --- Spatial data structures and algorithms\n",
      " special                      --- Special functions\n",
      " stats                        --- Statistical Functions\n",
      "\n",
      "Utility tools\n",
      "-------------\n",
      "::\n",
      "\n",
      " test              --- Run scipy unittests\n",
      " show_config       --- Show scipy build configuration\n",
      " show_numpy_config --- Show numpy build configuration\n",
      " __version__       --- Scipy version string\n",
      " __numpy_version__ --- Numpy version string\n",
      "\n",
      "\n"
     ]
    }
   ],
   "source": [
    "print(sp.__doc__)"
   ]
  },
  {
   "cell_type": "markdown",
   "metadata": {},
   "source": [
    "## Scipy의 최적화\n",
    "\n",
    "Scipy에만 존재하는 함수는 Numpy에 있는 함수보다 더 최적화되어 있거나, 기능이 확장된 경우가 존재.  \n",
    "\n",
    "아래의 이산 푸리에 변환을 통해 확인 가능.  "
   ]
  },
  {
   "cell_type": "code",
   "execution_count": 3,
   "metadata": {},
   "outputs": [],
   "source": [
    "y = sp.randn(2**16)"
   ]
  },
  {
   "cell_type": "code",
   "execution_count": 4,
   "metadata": {},
   "outputs": [
    {
     "name": "stdout",
     "output_type": "stream",
     "text": [
      "2.47 ms ± 56.4 µs per loop (mean ± std. dev. of 7 runs, 100 loops each)\n"
     ]
    }
   ],
   "source": [
    "# Numpy\n",
    "%timeit Y = np.fft.fft(y)"
   ]
  },
  {
   "cell_type": "code",
   "execution_count": 9,
   "metadata": {},
   "outputs": [
    {
     "name": "stdout",
     "output_type": "stream",
     "text": [
      "1.14 ms ± 2.49 µs per loop (mean ± std. dev. of 7 runs, 1000 loops each)\n"
     ]
    }
   ],
   "source": [
    "# Scipy\n",
    "from scipy import fftpack\n",
    "%timeit Y = fftpack.fft(y)"
   ]
  },
  {
   "cell_type": "markdown",
   "metadata": {},
   "source": [
    "## Scipy의 통계 패키지\n",
    "\n",
    "Python에서 통계처리를 하는데는 아래의 5가지가 주로 사용\n",
    "- Pyhon 기본 라이브러리 Statistics\n",
    "- Numpy의 통계처리 함수\n",
    "- Pandas의 통계처리 함수\n",
    "- **Scipy의 stats 패키지**\n",
    "- **Statsmodels**\n",
    "\n",
    "앞의 세가지는 평균, 분산, 중앙값 등 극히 기초적인 기능만 제공.  \n",
    "뒤의 두가지는 통계분석이 가능한 기능들을 제공.  \n",
    "\n",
    "Statsmodels는 원래 scipy.stats의 model 모듈이었으나, 분리되어 별도의 패키지로 공개.  \n",
    "(Scipy의 stats 서브 패키지와 상호보완적인 관계를 갖음.)  \n",
    "\n",
    "**Python에서 통계분석을 할 때에는 Scipy나 Statsmodel을 이용**하여 하는 것이 바람직.  "
   ]
  },
  {
   "cell_type": "markdown",
   "metadata": {},
   "source": [
    "# Conclusion\n",
    "\n",
    "Scipy는 Python에 C와 Fortran기반의 과학 기술 컴퓨팅 알고리즘 제공이 목적.  \n",
    "**알고리즘들은 Numpy를 기반으로하여 확장 및 최적화** 되었음.  \n",
    "\n",
    "따라서 Numpy가 아닌 **Scipy를 이용하여 과학 기술 컴퓨팅 알고리즘에 익숙해 지는것이 바람직.**  "
   ]
  },
  {
   "cell_type": "markdown",
   "metadata": {},
   "source": [
    "# References\n",
    "\n",
    "1. [엔지니어를 위한 파이썬](http://www.yes24.com/24/goods/56900453)"
   ]
  }
 ],
 "metadata": {
  "kernelspec": {
   "display_name": "Python 3",
   "language": "python",
   "name": "python3"
  },
  "language_info": {
   "codemirror_mode": {
    "name": "ipython",
    "version": 3
   },
   "file_extension": ".py",
   "mimetype": "text/x-python",
   "name": "python",
   "nbconvert_exporter": "python",
   "pygments_lexer": "ipython3",
   "version": "3.6.3"
  }
 },
 "nbformat": 4,
 "nbformat_minor": 2
}
