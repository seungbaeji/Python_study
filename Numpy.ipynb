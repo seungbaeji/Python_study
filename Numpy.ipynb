{
 "cells": [
  {
   "cell_type": "code",
   "execution_count": 1,
   "metadata": {},
   "outputs": [],
   "source": [
    "%matplotlib inline\n",
    "%load_ext autoreload\n",
    "%autoreload 2"
   ]
  },
  {
   "cell_type": "markdown",
   "metadata": {},
   "source": [
    "# Numpy\n",
    "\n",
    "과학 기술 컴퓨팅 분야에서 사용되는 프로그래밍 언어는 아래의 두가지 조건이 필수적.  \n",
    "1. 대규모 데이터를 효율적으로 다룰 수 있을 것\n",
    "2. 배열 연산을 고속으로 수행할 수 있을 것\n",
    "\n",
    "Python 본체와 표준 라이브러리만으로는 위 두가지 조건을 만족시키지 못하지만,  \n",
    "Numpy는 정확히 위 두가지 조건만 강화시켜 주는 과학 기술 컴퓨팅의 기초 라이브러리.  \n",
    "\n",
    "Numpy는 2006년 [Travis Oliphant](https://en.wikipedia.org/wiki/Travis_Oliphant)(Anaconda의 설립자)에 의해 프로젝트가 시작되었으며,  \n",
    "**기본적인 기능을 제공하는데 중점**을 두고 있기 때문에, **고도의 과학 알고리즘이나 데이터 분석 기법을 제공하지는 않음.**  \n",
    "\n",
    "하지만 고도의 알고리즘을 제공하는 Scipy, 수준 높은 데이터 분석 기법을 제공하는 Pandas,  \n",
    "분석결과를 시각화 하는 기능을 제공하는 matplotlib가 Numpy에 기초하고 있음.   \n",
    "\n",
    "따라서 **Numpy는 필수적인 핵심 라이브러리들의 기초**를 이루고 있으므로,  \n",
    "Numpy를 이해하고 이를 기본적인 수준에서 능숙하게 사용하는 것은 필수적인 역량으로 요구됨.  \n",
    "\n",
    "Numpy는 고속 처리와 다른 언어와의 다른 언어와의 인터페이싱을 고려한 메모리 사용 전략을 취함.  \n",
    "때문에 불필요한 메모리 복사가 일어나지 않도록 뷰(view)라는 개념을 도입.  \n",
    "여기에 유니버셜 함수(universal function)과 브로드캐스팅(broadcasting) 등의 개념도 도입하여 Python의 기능을 대폭 확장.  \n",
    "\n",
    "하지만 Numpy에는 Python의 기본적인 사상과 어긋나는 부분들이 존재, 그럼에도 위 개념에 익숙해지면 프로그래밍 효율이 크게 향상될 수 있음.    \n",
    "> Python의 기본적인 사상과 어긋나는 부분들:  \n",
    "타입을 지정하는 방법이 여러 가지거나, 같은 연산이 Numpy의 함수 및 ndarray의 메서드로 만들어져 있는 부분  "
   ]
  },
  {
   "cell_type": "markdown",
   "metadata": {},
   "source": [
    "## Numpy의 종류\n",
    "\n",
    "Numpy는 크게 아래의 두가지로 구분 가능  \n",
    "- Intel mkl기반의 numpy\n",
    "- Intel mkl기반이 아닌 numpy\n",
    "\n",
    "Intel MKL(Math Kernel Library)은 최고의 성능을 필요로 하는 과학, 공학 및 금융을 위해,  \n",
    "Intel에서 제공 및 보장하는 응용 프로그램이며, 이는 최적화되고 광범위하게 스레드된 수학 루틴을 제공.\n",
    "\n",
    "때문에 손쉽게 `빠른 속도`를 얻기 위해서는 `인텔 cpu`와 `mkl 기반의 numpy` 설치가 필요.  \n",
    "mkl 기반의 numpy설치는 [Anaconda](https://www.anaconda.com/download/)를 통한 설치로 쉽게 해결이 가능.  \n",
    "> pip install numpy로는 mkl기반의 numpy 설치가 불가.  \n",
    "하지만 [해당링크](https://www.lfd.uci.edu/~gohlke/pythonlibs/#numpy)에서 제공하는 `whl` 파일을 다운받아 pip로 설치 가능.  "
   ]
  },
  {
   "cell_type": "markdown",
   "metadata": {},
   "source": [
    "## Numpy가 제공하는 주요기능\n",
    "\n",
    "`Numpy`는 `배열`에 대한 처리에 특화된 라이브러리.  \n",
    "그리고 **빠른 배열 연산**의 기초가 되는 것이 **다차원 배열 객체인 `ndarray`.**  \n",
    "\n",
    "**즉, ndarray는 파이썬이 갖는 고속 데이터 처리 기능의 기초**를 이룸.  \n",
    "\n",
    "이외에도 Numpy가 제공하는 주요기능은 아래와 같음.  \n",
    "- 유니버셜 함수(univisal function)\n",
    "- 다양한 함수(수학 함수/선형대수 함수 및 통계 처리 함수 등)\n",
    "- 다른 언어에 대한 인터페이스\n"
   ]
  },
  {
   "cell_type": "markdown",
   "metadata": {},
   "source": [
    "## Numpy가 빠른 이유\n",
    "\n",
    "Numpy가 대규모 데이터를 빠른 속도로 처리할 수 있는 이유는, **ndarray를 기본 데이터 저장 포맷으로 사용**하기 때문.  \n",
    "\n",
    "ndarray는 저장하고 있는 `데이터`와 `메타데이터(차원, 데이터 타입 등)`라 불리는 부가 정보로 이루어 지며, 해당 데이터들을 시스템상의 메모리(RAM)에 빈틈없이 빽빽히 배치.  \n",
    "\n",
    "**즉, ndarray에서는 다차원의 데이터가 메모리상의 연속적인 공간으로 저장.**  \n",
    "\n",
    "반면 **Python의 리스트는 포인터를 담고 있는 것으로, 리스트의 각 요소가 메모리 이곳저것에 흩어져 저장.**  \n",
    "그리고 데이터가 분산되어 배치되면, 이들 데이터에 접근할 때 오버헤드(메모리 접근이나 함수 호출 시 소비되는 시간)가 발생.  \n",
    "\n",
    "id 함수를 통해 저장된 위치를 확인한 결과는 아래와 같음.  \n",
    "> id 함수는 cpython에서 해당 객체가 저장된 메모리값을 숫자로 리턴해 주는 함수.  \n",
    "그리고 파이썬에서는 모든 것이 객체로 구현되어 있음 "
   ]
  },
  {
   "cell_type": "code",
   "execution_count": 3,
   "metadata": {},
   "outputs": [
    {
     "name": "stdout",
     "output_type": "stream",
     "text": [
      "140212111127376 | 140212111127856 | 480\n",
      "140212247025728 | 140212247025728 | 0\n"
     ]
    }
   ],
   "source": [
    "a = [567,568,569]\n",
    "b = np.array(a)\n",
    "\n",
    "print(id(a[0]), id(a[1]), abs(id(a[1]) - id(a[0])), sep=' | ')\n",
    "print(id(b[0]), id(b[1]), abs(id(b[1]) - id(b[0])), sep=' | ')"
   ]
  },
  {
   "cell_type": "markdown",
   "metadata": {},
   "source": [
    "ndarray처럼 동일 타입의 데이터가 메모리의 같은 영역에 모여 있으면 아래와 같은 장점이 있음.  \n",
    "- 배열 연산을 C 같은 속도가 빠른 저수준 언어로 구현 가능\n",
    "- 데이터를 CPU 레지스터(register)에 모아 효율적으로 일어올 수 있음\n",
    "- CPU의 벡터화 연산(SSE, AVX)의 장점을 누릴 수 있음\n",
    "\n",
    "벡터화 연산에 대해서는 보통 Numpy가 컴파일될 때 **BLAS나 LAPACK과 같은 극도로 최적화된 선형대수 라이브러리에 링크**가 됨.  \n",
    "\n",
    "아래와 같이 현재 시스템이 어떤 벡터화 연산 시스템을 사용하는지 확인 가능.  \n",
    "아래에서는 Intel MKL과 CBLAS를 사용함을 알 수 있음. CBLAS는 BLAS routines에 대한 C 스타일의 interface를 의미.  "
   ]
  },
  {
   "cell_type": "code",
   "execution_count": 19,
   "metadata": {},
   "outputs": [
    {
     "name": "stdout",
     "output_type": "stream",
     "text": [
      "blas_mkl_info:\n",
      "    libraries = ['mkl_rt', 'pthread']\n",
      "    library_dirs = ['/home/ubuntu/anaconda3/lib']\n",
      "    define_macros = [('SCIPY_MKL_H', None), ('HAVE_CBLAS', None)]\n",
      "    include_dirs = ['/home/ubuntu/anaconda3/include']\n",
      "blas_opt_info:\n",
      "    libraries = ['mkl_rt', 'pthread']\n",
      "    library_dirs = ['/home/ubuntu/anaconda3/lib']\n",
      "    define_macros = [('SCIPY_MKL_H', None), ('HAVE_CBLAS', None)]\n",
      "    include_dirs = ['/home/ubuntu/anaconda3/include']\n",
      "lapack_mkl_info:\n",
      "    libraries = ['mkl_rt', 'pthread']\n",
      "    library_dirs = ['/home/ubuntu/anaconda3/lib']\n",
      "    define_macros = [('SCIPY_MKL_H', None), ('HAVE_CBLAS', None)]\n",
      "    include_dirs = ['/home/ubuntu/anaconda3/include']\n",
      "lapack_opt_info:\n",
      "    libraries = ['mkl_rt', 'pthread']\n",
      "    library_dirs = ['/home/ubuntu/anaconda3/lib']\n",
      "    define_macros = [('SCIPY_MKL_H', None), ('HAVE_CBLAS', None)]\n",
      "    include_dirs = ['/home/ubuntu/anaconda3/include']\n"
     ]
    }
   ],
   "source": [
    "np.__config__.show()"
   ]
  },
  {
   "cell_type": "markdown",
   "metadata": {},
   "source": [
    "## Numpy의 데이터 타입\n",
    "\n",
    "Python에서는 세부적인 데이터 타입을 지정할 수 없음(ex, 정수타입에서의 비트 수)  \n",
    "하지만 Numpy만의 독자적인 데이터 타입을 사용하면, 불필요한 메모리 사용을 피하고 효율적인 처리가 가능.  \n",
    "\n",
    "Numpy의 다양한 데이터 타입은 [해당링크](https://docs.scipy.org/doc/numpy/user/basics.types.html)에서 확인이 가능.  \n",
    "\n",
    "간략히는 아래와 같음.  \n",
    "- int: int8, int16, int32, int64\n",
    "- uint: uint8, uint16, uint32, uint64\n",
    "- float: float16, float32, float64\n",
    "- complex: complex64, complex128\n",
    "\n",
    "관련 예제코드는 아래와 같음.  "
   ]
  },
  {
   "cell_type": "code",
   "execution_count": 8,
   "metadata": {},
   "outputs": [],
   "source": [
    "a = np.uint16(34)\n",
    "b = np.complex128([3.2, 4.2 + 1.09j])\n",
    "c = np.array([2334.432, 2.23], dtype=np.single)"
   ]
  },
  {
   "cell_type": "markdown",
   "metadata": {},
   "source": [
    "그리고 numpy 데이터타입의 메모리 정보는 `flags`를 통해 확인이 가능.  \n",
    "관련 예제코드는 아래와 같음.  "
   ]
  },
  {
   "cell_type": "code",
   "execution_count": 10,
   "metadata": {},
   "outputs": [
    {
     "name": "stdout",
     "output_type": "stream",
     "text": [
      "<class 'numpy.uint16'>\n"
     ]
    },
    {
     "data": {
      "text/plain": [
       "  C_CONTIGUOUS : True\n",
       "  F_CONTIGUOUS : True\n",
       "  OWNDATA : True\n",
       "  WRITEABLE : False\n",
       "  ALIGNED : True\n",
       "  UPDATEIFCOPY : False"
      ]
     },
     "execution_count": 10,
     "metadata": {},
     "output_type": "execute_result"
    }
   ],
   "source": [
    "print(type(a))\n",
    "a.flags"
   ]
  },
  {
   "cell_type": "markdown",
   "metadata": {},
   "source": [
    "## ndarray\n",
    "\n",
    "### 1. 배열과 행렬\n",
    "Numpy에서 다차원 배열 객체를 다루기 위한 메커니즘은 `배열(array)`와 `행렬(matrix)` 두 가지가 있음.  \n",
    "배열과 행렬은 모두 일반적인 의미의 배열이나, **차이점은 행렬곱 연산에 사용되는 연산자가 다름.**  \n",
    "\n",
    "Numpy에서 기본적인 배열은 ndarray라는 객체로 표현되나, 행렬은 계산 식의 가독성 향상을 위해 사용 됨  \n",
    "\n",
    "$$S = (HVH^T)^{-1}$$\n",
    "\n",
    "위 식을 ndarray를 사용하면 아래와 같이 나타낼 수 있음.  "
   ]
  },
  {
   "cell_type": "code",
   "execution_count": 62,
   "metadata": {},
   "outputs": [
    {
     "name": "stdout",
     "output_type": "stream",
     "text": [
      "<class 'numpy.ndarray'> <class 'numpy.ndarray'>\n",
      "[[ -2.04115284e+11  -7.14403494e+11   2.04115284e+12  -1.12263406e+12]\n",
      " [  5.21106320e+14  -7.79771414e+14  -3.77613276e+12   2.62441226e+14]\n",
      " [ -1.04160029e+15   1.56168604e+15   1.42880699e+12  -5.21514551e+14]\n",
      " [  5.20698090e+14  -7.81200221e+14   3.06172926e+11   2.60195958e+14]]\n"
     ]
    }
   ],
   "source": [
    "H = np.arange(16).reshape(4, 4)\n",
    "V = np.arange(10, 42, 2).reshape(4, 4)\n",
    "print(type(H), type(V))\n",
    "\n",
    "S = np.linalg.inv(H.dot(V.dot(H.T)))\n",
    "print(S)"
   ]
  },
  {
   "cell_type": "markdown",
   "metadata": {},
   "source": [
    "하지만 위 식을 matrix로 나타내면 `*` 연산자를 이용하여 가독성이 편해지며, 이는 아래와 같음.  "
   ]
  },
  {
   "cell_type": "code",
   "execution_count": 63,
   "metadata": {},
   "outputs": [
    {
     "name": "stdout",
     "output_type": "stream",
     "text": [
      "<class 'numpy.matrixlib.defmatrix.matrix'> <class 'numpy.matrixlib.defmatrix.matrix'>\n",
      "[[ -2.04115284e+11  -7.14403494e+11   2.04115284e+12  -1.12263406e+12]\n",
      " [  5.21106320e+14  -7.79771414e+14  -3.77613276e+12   2.62441226e+14]\n",
      " [ -1.04160029e+15   1.56168604e+15   1.42880699e+12  -5.21514551e+14]\n",
      " [  5.20698090e+14  -7.81200221e+14   3.06172926e+11   2.60195958e+14]]\n"
     ]
    }
   ],
   "source": [
    "H = np.matrix('0 1 2 3; 4 5 6 7; 8 9 10 11; 12 13 14 15')\n",
    "V = np.matrix(V)\n",
    "print(type(H), type(V))\n",
    "\n",
    "S = np.linalg.inv(H * V * H.T)\n",
    "print(S)"
   ]
  },
  {
   "cell_type": "markdown",
   "metadata": {},
   "source": [
    "하지만 **python 3.5에서 부터 `@` 연산자가 추가**되어, ndarray도 가독성이 편하게 작성 가능.  \n",
    "이에 대한 예제는 아래와 같음.  "
   ]
  },
  {
   "cell_type": "code",
   "execution_count": 64,
   "metadata": {},
   "outputs": [
    {
     "name": "stdout",
     "output_type": "stream",
     "text": [
      "<class 'numpy.ndarray'> <class 'numpy.ndarray'>\n",
      "[[ -2.04115284e+11  -7.14403494e+11   2.04115284e+12  -1.12263406e+12]\n",
      " [  5.21106320e+14  -7.79771414e+14  -3.77613276e+12   2.62441226e+14]\n",
      " [ -1.04160029e+15   1.56168604e+15   1.42880699e+12  -5.21514551e+14]\n",
      " [  5.20698090e+14  -7.81200221e+14   3.06172926e+11   2.60195958e+14]]\n"
     ]
    }
   ],
   "source": [
    "H = np.arange(16).reshape(4, 4)\n",
    "V = np.arange(10, 42, 2).reshape(4, 4)\n",
    "print(type(H), type(V))\n",
    "\n",
    "S = np.linalg.inv(H @ V @ H.T)\n",
    "print(S)"
   ]
  },
  {
   "cell_type": "markdown",
   "metadata": {},
   "source": [
    "대부분의 Numpy 함수가 ndarray를 리턴하며, `@` 연산자로 인하여 matrix를 사용해야 할 이유는 점점 줄어듬.  \n",
    "따라서 행렬곱에서는 **ndarray와 `@` 연산자**를 앞으로 사용하는 것을 바람직.  \n",
    "\n",
    "> **! 주의사항**  \n",
    "ndarray의 `*`(곱셈), `/`(나눗셈), `+`(덧셈), `-`(뺄셈), `**`(거듭제곱), `//`(정수 나눗셈), `%`(나머지 연산)은 요소 단위(element-wise)계산이라는 점.  \n",
    "행렬곱을 계산하려면 dot method나 `@` 연산자를 사용해야 함."
   ]
  },
  {
   "cell_type": "markdown",
   "metadata": {},
   "source": [
    "### 2. 인덱싱\n",
    "\n",
    "ndarray의 일부 요소를 꺼내는 기능인 인덱싱에는 몇 가지 패턴이 존재.  \n",
    "하지만 크게 아래의 두가지로 구분이 가능.  \n",
    "- 기본 인덱싱(basic indexing)\n",
    "- 응용 인덱싱(fancy indexing)\n",
    "\n",
    "기본 인덱싱은 원본의 뷰(view)를 생성하는 방법이며, 응용 인덱싱은 원본의 사본을 생성하는 방법.  \n",
    "\n",
    "#### 2-1. 기본 인덱싱\n",
    "\n",
    "기본 인덱싱으로 view를 만들 수 있으며, **view는 view를 만든 ndarray의 일부분에 접근하기 위해 만든 참조**를 말함.  \n",
    "때문에 **메모리상에 원본 ndarray의 사본을 만들지 않음.** 따라서 대규모 데이터를 저장하고 있는 ndarry의 view를 아무리 많이 만들어도, 메모리 사용량은 만들었던 view를 저장하는 용량 이상 늘어나지 않음.  \n",
    "다만 **view의 요소를 변경하게 되면, 원본 ndarray의 요소도 변경.**  \n",
    "\n",
    "기본 인덱싱 방법은 아래의 3가지가 존재.  \n",
    "1. 인덱싱\n",
    "2. 슬라이싱\n",
    "3. ndarray 고유의 인덱싱 및 슬라이싱  \n",
    "\n",
    "아래는 기본 인덱싱을 이용한 예.  "
   ]
  },
  {
   "cell_type": "code",
   "execution_count": 136,
   "metadata": {},
   "outputs": [
    {
     "name": "stdout",
     "output_type": "stream",
     "text": [
      "[[ 0  1  2  3]\n",
      " [ 4  5  6  7]\n",
      " [ 8  9 10 11]]\n",
      "\n",
      "[5 6 7]\n",
      "[5 6 7]\n",
      "\n",
      "[[ 0  1  2  3]\n",
      " [ 4 -1 -3  7]\n",
      " [ 8  9 10 11]]\n",
      "\n"
     ]
    }
   ],
   "source": [
    "x2d = np.arange(12).reshape(3, 4)\n",
    "print(x2d, end='\\n\\n')\n",
    "\n",
    "a = x2d[1][1:] # indexing and slicing\n",
    "print(a)\n",
    "\n",
    "b = x2d[1, 1:] # indexing and slicing of ndarray\n",
    "print(b, end='\\n\\n')\n",
    "\n",
    "a[0] = -1\n",
    "b[1] = -3\n",
    "print(x2d, end='\\n\\n')"
   ]
  },
  {
   "cell_type": "markdown",
   "metadata": {},
   "source": [
    "위의 예에서, a와 b는 x2d의 view.  \n",
    "그리고 a는 Python의 인덱싱과 슬라이싱을 이용한 방법이며, b는 ndarray 고유의 인덱싱과 슬라이싱을 이용한 방법.  \n",
    "x2d를 참조하는 view의 값을 변경시, 원본 ndarray인 x2d의 값도 변함을 알 수 있음.  "
   ]
  },
  {
   "cell_type": "markdown",
   "metadata": {},
   "source": [
    "#### 2-2. 응용 인덱싱\n",
    "\n",
    "응용 인덱싱은 ndarray의 사본을 만들어 이용.  \n",
    "따라서 대규모 데이터를 저장한 ndarray에 적용시, 메모리 사용량을 의식해야 함.  \n",
    "\n",
    "응용 인덱싱은 아래의 3가지 유형이 존재.  \n",
    "1. bool값 인덱싱\n",
    "2. 정수 배열 인덱싱\n",
    "3. np.ix_ 함수를 사용한 인덱싱\n",
    "\n",
    "아래는 bool값 인덱싱을 이용한 예.  "
   ]
  },
  {
   "cell_type": "code",
   "execution_count": 140,
   "metadata": {},
   "outputs": [
    {
     "name": "stdout",
     "output_type": "stream",
     "text": [
      "[[ 0  1  2  3  4  5]\n",
      " [ 6  7  8  9 10 11]]\n",
      "\n",
      "[[False False False False False False]\n",
      " [ True  True  True  True  True  True]]\n",
      "\n",
      "[ 6  7  8  9 10 11]\n",
      "\n",
      "[[ 0  1  2  3  4  5]\n",
      " [ 6  7  8  9 10 11]]\n"
     ]
    }
   ],
   "source": [
    "a = np.arange(12).reshape(2,6)\n",
    "mask = a > 5\n",
    "print(a, end='\\n\\n')\n",
    "\n",
    "print(mask, end='\\n\\n')\n",
    "\n",
    "b = a[mask]\n",
    "print(b, end='\\n\\n')\n",
    "\n",
    "b[0] = -1\n",
    "print(a)"
   ]
  },
  {
   "cell_type": "markdown",
   "metadata": {},
   "source": [
    "아래는 정수 배열 인덱싱을 이용한 예."
   ]
  },
  {
   "cell_type": "code",
   "execution_count": 158,
   "metadata": {},
   "outputs": [
    {
     "name": "stdout",
     "output_type": "stream",
     "text": [
      "[[ 0  1  2  3  4  5]\n",
      " [ 6  7  8  9 10 11]]\n",
      "\n",
      "[ 8  9 10 11] [ 8  9 10 11] [ 8  9 10 11]\n",
      "\n",
      "[[ 0  1  2  3  4  5]\n",
      " [ 6  7  8  9 10 11]]\n",
      "\n",
      "[[  0   1   2   3   4   5]\n",
      " [  6   7 -10   9  10  11]]\n"
     ]
    }
   ],
   "source": [
    "a = np.arange(12).reshape(2, 6)\n",
    "b = a[1, 2:]\n",
    "c = a[[[1],[2,3,4,5]]]\n",
    "d = a[[[1,1,1,1],[2,3,4,5]]]\n",
    "\n",
    "print(a, end='\\n\\n')\n",
    "print(b, c, d, end='\\n\\n')\n",
    "\n",
    "c[0] = -1\n",
    "print(a, end='\\n\\n')\n",
    "\n",
    "b[0] = -10\n",
    "print(a)"
   ]
  },
  {
   "cell_type": "markdown",
   "metadata": {},
   "source": [
    "아래는 np._ix 함수를 이용한 예."
   ]
  },
  {
   "cell_type": "code",
   "execution_count": 164,
   "metadata": {},
   "outputs": [
    {
     "name": "stdout",
     "output_type": "stream",
     "text": [
      "[[ 0  1  2  3]\n",
      " [ 4  5  6  7]\n",
      " [ 8  9 10 11]]\n",
      "\n",
      "[[ 1  3]\n",
      " [ 9 11]]\n",
      "\n",
      "[[0 1 3]\n",
      " [4 5 7]]\n",
      "\n"
     ]
    }
   ],
   "source": [
    "a = np.arange(12).reshape(3, 4)\n",
    "\n",
    "print(a, end='\\n\\n')\n",
    "print(a[np.ix_([0, 2], [1, 3])], end='\\n\\n')\n",
    "print(a[np.ix_([0, 1], [0, 1, 3])], end='\\n\\n')"
   ]
  },
  {
   "cell_type": "markdown",
   "metadata": {},
   "source": [
    "### 3. 데이터와 메모리의 관계\n",
    "\n",
    "C와 같은 행 방향을 우선(row major)하는 배치 방법과, Fortran 등에서 볼 수 있는 열 방향 우선(column major)방식이 존재.   \n",
    "아래의 그림은 row major와 column major의 메모리 저장 방식의 차이를 보여주는 그림임.  \n",
    "저장방식의 차이로 인하여, 성능차이를 보이는 연산이 존재.  \n",
    "\n",
    "![메모리상에 데이터를 배치하는 방법](https://craftofcoding.files.wordpress.com/2017/02/rowcolumnarrays.jpg)\n",
    "\n",
    "이 중 row major가 ndarray에서는 기본 값으로 설정되어, 옵션을 주지 않았을때 선택 됨.  \n",
    "옵션을 주어 ndarray를 만드는 예제는 아래와 같음.  "
   ]
  },
  {
   "cell_type": "code",
   "execution_count": 133,
   "metadata": {},
   "outputs": [
    {
     "name": "stdout",
     "output_type": "stream",
     "text": [
      "[[1, 2, 3], [4, 5, 6], [7, 8, 9], [10, 11, 12]]\n",
      "\n",
      "[[ 1  2  3]\n",
      " [ 4  5  6]\n",
      " [ 7  8  9]\n",
      " [10 11 12]]\n",
      "\n",
      "[[ 1  2  3]\n",
      " [ 4  5  6]\n",
      " [ 7  8  9]\n",
      " [10 11 12]]\n"
     ]
    }
   ],
   "source": [
    "data = [[1,2,3],[4,5,6],[7,8,9],[10,11,12]]\n",
    "print(data, end='\\n\\n')\n",
    "\n",
    "nda = np.array(data, order='C')\n",
    "ndb = np.array(data, order='F')\n",
    "\n",
    "print(nda, end='\\n\\n')\n",
    "print(ndb)"
   ]
  },
  {
   "cell_type": "markdown",
   "metadata": {},
   "source": [
    "그 외에도 shape에 row major와 column major를 옵션으로 줄 수 있음.  \n",
    "shape에 옵션을 주어 ndarray를 생성하는 예제는 아래와 같음.  "
   ]
  },
  {
   "cell_type": "code",
   "execution_count": 132,
   "metadata": {},
   "outputs": [
    {
     "name": "stdout",
     "output_type": "stream",
     "text": [
      "[[ 0  1  2]\n",
      " [ 3  4  5]\n",
      " [ 6  7  8]\n",
      " [ 9 10 11]]\n",
      "\n",
      "[[ 0  4  8]\n",
      " [ 1  5  9]\n",
      " [ 2  6 10]\n",
      " [ 3  7 11]]\n"
     ]
    }
   ],
   "source": [
    "nda = np.arange(12).reshape(4, 3, order='C')\n",
    "ndb = np.arange(12).reshape(4, 3, order='F')\n",
    "\n",
    "print(nda, end='\\n\\n')\n",
    "print(ndb)"
   ]
  },
  {
   "cell_type": "markdown",
   "metadata": {},
   "source": [
    "## Universial Function\n",
    "\n",
    "**ndarray에 요소 단위(element-wise) 계산을 한 뒤, 그 결과를 리턴하는 함수.**  \n",
    "일반적으로 줄임말인 `ufunc`로 부름.  \n",
    "\n",
    "ufunc는 대부분 C로 구현되어 있어서 속도가 빠르며, 주로 아래의 분야의 함수가 ufunc로 구현 됨.  \n",
    "- 수학 함수\n",
    "- 비트 연산 함수\n",
    "- 비교용 함수\n",
    "- 부동 소수용 함수\n",
    "\n",
    "ufunc의 간략한 예는 아래와 같음.  "
   ]
  },
  {
   "cell_type": "code",
   "execution_count": 78,
   "metadata": {},
   "outputs": [
    {
     "name": "stdout",
     "output_type": "stream",
     "text": [
      "[[ 0  1  2  3  4  5]\n",
      " [ 6  7  8  9 10 11]]\n",
      "\n",
      "[[  0   1   4   9  16  25]\n",
      " [ 36  49  64  81 100 121]]\n"
     ]
    }
   ],
   "source": [
    "nda = np.arange(12).reshape(2, 6)\n",
    "print(nda, end='\\n\\n')\n",
    "\n",
    "res = np.square(nda)\n",
    "print(res)"
   ]
  },
  {
   "cell_type": "markdown",
   "metadata": {},
   "source": [
    "Python의 자체 기능만 사용해서는 for문이나 list comprehension을 사용해야 하는 계산을, `np.square(nda)` 한줄로 수행.  \n",
    "\n",
    "특정 함수가 ufunc인지 확인하려면, 함수의 도움말을 통해 확인 가능.  \n",
    "도움말 첫 째줄에 객체 타입이 ufunc라고 표기됨.  "
   ]
  },
  {
   "cell_type": "code",
   "execution_count": 81,
   "metadata": {},
   "outputs": [
    {
     "name": "stdout",
     "output_type": "stream",
     "text": [
      "<class 'numpy.ufunc'>\n"
     ]
    }
   ],
   "source": [
    "np.sin?\n",
    "print(type(np.sin))"
   ]
  },
  {
   "cell_type": "markdown",
   "metadata": {},
   "source": [
    "Numpy는 Python 함수를 ufunc로 만드는 기능도 갖고 있음.  \n",
    "`frompyfunc`라는 함수로 이를 사용 가능.  \n",
    "\n",
    "`frompyfunc` 함수는 3개의 입력값을 받아, ufunc를 리턴.  \n",
    "입력값은 순차적으로 아래와 같음.  \n",
    "1. func : ufunc로 만드려는 임의의 Python 함수.\n",
    "2. nin : 첫번째 파라미터인 Python 함수의 입력 인자의 개수(int값)\n",
    "3. nout : 첫번째 파라미터인 Python 함수의 출력 객체의 개수(int값)\n",
    "\n",
    "자세한 내역은 도움말(`np.frompyfunc?`)을 통해 확인 가능하며,  \n",
    "아래는 `frompyfunc`를 사용하여 Python 내장 함수를 ufunc로 만드는 예.  "
   ]
  },
  {
   "cell_type": "code",
   "execution_count": 90,
   "metadata": {},
   "outputs": [
    {
     "name": "stdout",
     "output_type": "stream",
     "text": [
      "['0x5' '0xa' '0x10']\n",
      "['0x5' '0xa' '0x10']\n"
     ]
    }
   ],
   "source": [
    "hex_array = np.frompyfunc(hex, 1, 1)\n",
    "res = hex_array(np.array([5, 10, 16]))\n",
    "print(res)\n",
    "\n",
    "res = np.array((hex(5), hex(10), hex(16)))\n",
    "print(res)"
   ]
  },
  {
   "cell_type": "code",
   "execution_count": 89,
   "metadata": {},
   "outputs": [],
   "source": [
    "np.frompyfunc?"
   ]
  },
  {
   "cell_type": "markdown",
   "metadata": {},
   "source": [
    "직접 정의한 Python 사용자 함수를 사용한 ufunc의 예는 아래와 같음.  "
   ]
  },
  {
   "cell_type": "code",
   "execution_count": 124,
   "metadata": {},
   "outputs": [
    {
     "name": "stdout",
     "output_type": "stream",
     "text": [
      "0\n"
     ]
    }
   ],
   "source": [
    "def test_func(val_1):\n",
    "    res = val_1**10000\n",
    "    return res\n",
    "\n",
    "test_ufunc = np.frompyfunc(test_func, 1, 1)\n",
    "\n",
    "print(test_func(5) - test_ufunc(5))"
   ]
  },
  {
   "cell_type": "code",
   "execution_count": 121,
   "metadata": {},
   "outputs": [
    {
     "name": "stdout",
     "output_type": "stream",
     "text": [
      "5.37 ms ± 30.3 µs per loop (mean ± std. dev. of 7 runs, 100 loops each)\n"
     ]
    }
   ],
   "source": [
    "%timeit np.array((test_func(500), test_func(1000), test_func(2000), test_func(4000), test_func(8000)))"
   ]
  },
  {
   "cell_type": "code",
   "execution_count": 122,
   "metadata": {},
   "outputs": [
    {
     "name": "stdout",
     "output_type": "stream",
     "text": [
      "5.38 ms ± 27.7 µs per loop (mean ± std. dev. of 7 runs, 100 loops each)\n"
     ]
    }
   ],
   "source": [
    "%timeit test_ufunc(np.array([500, 1000, 2000, 4000, 8000]))"
   ]
  },
  {
   "cell_type": "markdown",
   "metadata": {},
   "source": [
    "사용자 함수를 ufunc로 만들었을 때, 간단한 동작을 하는 함수는 Python 함수보다 속도가 더 느렸음.    \n",
    "하지만 loop수가 많아지거나, mkl 라이브러리와 관련된 함수는 속도가 빠를것으로 예상 됨.  \n",
    "\n",
    "그리고 **ufunc는 데이터 전처리에 매우 유용할 것**으로 보여짐.  "
   ]
  },
  {
   "cell_type": "markdown",
   "metadata": {},
   "source": [
    "## Broadcasting\n",
    "\n",
    "Numpy가 효율적인 처리를 목적으로 갖추고 있는 배열 연산 확장 규칙.  \n",
    "이 규칙 덕분에 서로 다른 형상을 갖는 배열끼리의 연산이 가능한 경우가 존재.  \n",
    "\n",
    "Broadcasting이 적용되는 경우는 크게 아래의 3가지 경우  \n",
    "1. `+`, `-`, `*`, `/` 등의 사칙연산  \n",
    "2. `ufunc`를 이용한 ndarray끼리의 연산\n",
    "3. 서로 다른 크기를 갖는 2개의 ndarray에 대한 연산\n",
    "\n",
    "가장 단순한 1번의 경우의 예는 아래와 같음.  "
   ]
  },
  {
   "cell_type": "code",
   "execution_count": 91,
   "metadata": {},
   "outputs": [
    {
     "name": "stdout",
     "output_type": "stream",
     "text": [
      "[2 3 4]\n"
     ]
    }
   ],
   "source": [
    "nda = np.array([1,2,3])\n",
    "res = nda + 1\n",
    "print(res)"
   ]
  },
  {
   "cell_type": "markdown",
   "metadata": {},
   "source": [
    "위의 `nda + 1`연산은 내부적으로 broadcasting에 의해 `nda + np.array([1,1,1])`로 치환되어 실행.  \n",
    "\n",
    "Broadcasting의 메커니즘은 다음과 같은 세 가지로 설명이 가능.  \n",
    "\n",
    "Broadcasting의 구체적인 예는 아래와 같음.  "
   ]
  },
  {
   "cell_type": "code",
   "execution_count": 93,
   "metadata": {},
   "outputs": [
    {
     "name": "stdout",
     "output_type": "stream",
     "text": [
      "[[[ 0  2]\n",
      "  [ 3  5]\n",
      "  [ 6  8]]\n",
      "\n",
      " [[ 6  8]\n",
      "  [ 9 11]\n",
      "  [12 14]]\n",
      "\n",
      " [[12 14]\n",
      "  [15 17]\n",
      "  [18 20]]\n",
      "\n",
      " [[18 20]\n",
      "  [21 23]\n",
      "  [24 26]]]\n"
     ]
    }
   ],
   "source": [
    "nda = np.arange(24).reshape(4,3,2)\n",
    "ndb = np.arange(6).reshape(3,2)\n",
    "ndc = np.arange(3).reshape(3,1)\n",
    "\n",
    "print(nda + ndb - ndc)"
   ]
  },
  {
   "cell_type": "code",
   "execution_count": null,
   "metadata": {},
   "outputs": [],
   "source": []
  },
  {
   "cell_type": "markdown",
   "metadata": {},
   "source": [
    "# Conclusion\n",
    "\n",
    "**Numpy는 Python을 C처럼 사용할 수 있게 해주는 라이브러리.**  \n",
    "그러나 기본적인 C가 아닌, **BLAS나 LAPACK과 같은 극도로 최적화된 선형대수 라이브러리 기반의 C**를 사용하는 효과.  \n",
    "즉, **C의 전문적인 코드를 Python의 간결한 코드로 대체가능.**  \n",
    "\n",
    "과학 알고리즘이나 데이터 분석기법들은 다른 라이브러리에서 Numpy를 기반으로 구현.  \n",
    "때문에 Numpy의 알고리즘 및 분석기법보다, **`ndarray`, `ufunc`, `broadcsting`의 활용에 익숙해 져야함.**  \n",
    "더불어 ndarray를 제대로 사용하기 위해서는 C의 지식을 갖고있는 것이 바람직.  "
   ]
  },
  {
   "cell_type": "markdown",
   "metadata": {},
   "source": [
    "# References\n",
    "\n",
    "1. [엔지니어를 위한 파이썬](http://www.yes24.com/24/goods/56900453)\n",
    "1. [인텔 MKL ](http://www.sandia.co.kr/intelsw/performance_libraries/reseller_prodpage_mkl_and_mkl_cluster_edition.htm)\n",
    "1. [ZEN of Numpy 정리](https://kakalabblog.wordpress.com/2017/04/03/zen-of-numpy/)\n",
    "1. [ZEN of Numpy 발표 슬라이드](https://speakerdeck.com/shurain/zen-of-numpy)\n",
    "1. [BLAS가 극단적인 성능을 얻는 방법은?](https://code.i-harness.com/ko/q/13e28e)\n",
    "1. [Boosting numpy: Why BLAS Matters](http://markus-beuckelmann.de/blog/boosting-numpy-blas.html)"
   ]
  }
 ],
 "metadata": {
  "kernelspec": {
   "display_name": "Python 3",
   "language": "python",
   "name": "python3"
  },
  "language_info": {
   "codemirror_mode": {
    "name": "ipython",
    "version": 3
   },
   "file_extension": ".py",
   "mimetype": "text/x-python",
   "name": "python",
   "nbconvert_exporter": "python",
   "pygments_lexer": "ipython3",
   "version": "3.6.3"
  }
 },
 "nbformat": 4,
 "nbformat_minor": 2
}
