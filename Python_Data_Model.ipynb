{
 "cells": [
  {
   "cell_type": "markdown",
   "metadata": {},
   "source": [
    "### Preface \n",
    "해당 문서는 Python [공식문서](https://docs.python.org/3.6/reference/datamodel.html)의 data model 부분과 [Fluent Python](http://1.droppdf.com/files/X06AR/fluent-python-2015-.pdf)의 1장과 9장을 주로 참고하여 작성.<br>\n",
    "\n",
    "현재는 Python data model에서 기본이라 생각되는 아래의 2가지 사항만 다룸.<br>\n",
    "1. Object\n",
    "2. Special method\n",
    "\n",
    "그 외에도 `The standard type hierarchy`, `Coroutines`에 관한 내용이 있으니, 자세한 내용은 [공식문서](https://docs.python.org/3.6/reference/datamodel.html)\n",
    "를 참조."
   ]
  },
  {
   "cell_type": "markdown",
   "metadata": {},
   "source": [
    "# Python Data Model\n",
    "\n",
    "Python data model은 **\"Python을 framework로 표현\"**하여, **\"Python스러움(Pythonic)이 가능한 핵심기반\"**을 제공.<br>\n",
    "list, tuple, dict, string등의 내장자료형은 Pythonic하게 사용이 가능하며, 사용자 정의 자료형(Class)도 special method를 통해 내장자료형처럼 Pythonic하게 동작이 가능.<br>\n",
    "\n",
    "Pythonic은 모호한 개념이지만, \"객체지향 언어로 절차지향 처럼 코딩하지 않는 것\"과 비슷한 뉘앙스를 갖음.<br>\n",
    "Pythonic에 대한 사항은 `import this`를 통해 알 수 있음.<br>"
   ]
  },
  {
   "cell_type": "code",
   "execution_count": 1,
   "metadata": {},
   "outputs": [
    {
     "name": "stdout",
     "output_type": "stream",
     "text": [
      "The Zen of Python, by Tim Peters\n",
      "\n",
      "Beautiful is better than ugly.\n",
      "Explicit is better than implicit.\n",
      "Simple is better than complex.\n",
      "Complex is better than complicated.\n",
      "Flat is better than nested.\n",
      "Sparse is better than dense.\n",
      "Readability counts.\n",
      "Special cases aren't special enough to break the rules.\n",
      "Although practicality beats purity.\n",
      "Errors should never pass silently.\n",
      "Unless explicitly silenced.\n",
      "In the face of ambiguity, refuse the temptation to guess.\n",
      "There should be one-- and preferably only one --obvious way to do it.\n",
      "Although that way may not be obvious at first unless you're Dutch.\n",
      "Now is better than never.\n",
      "Although never is often better than *right* now.\n",
      "If the implementation is hard to explain, it's a bad idea.\n",
      "If the implementation is easy to explain, it may be a good idea.\n",
      "Namespaces are one honking great idea -- let's do more of those!\n"
     ]
    }
   ],
   "source": [
    "import this"
   ]
  },
  {
   "cell_type": "markdown",
   "metadata": {},
   "source": [
    "import this의 번역된 내용은 아래와 같음.<br>\n",
    "\n",
    "파이썬 선(禪), [Tim Peters](https://stackoverflow.com/users/2705542/tim-peters) 지음\n",
    "\n",
    "아름다움이 추함보다 좋다.<br> \n",
    "명시가 암시보다 좋다.<br> \n",
    "단순함이 복잡함보다 좋다.<br> \n",
    "복잡함이 꼬인 것보다 좋다.<br> \n",
    "수평이 계층보다 좋다.<br> \n",
    "여유로운 것이 밀집한 것보다 좋다.<br> \n",
    "가독성은 중요하다.<br> \n",
    "특별한 경우라는 것은 규칙을 어겨야 할 정도로 특별한 것이 아니다.<br> \n",
    "허나 실용성은 순수성에 우선한다.<br> \n",
    "오류 앞에서 절대 침묵하지 말지어다.<br> \n",
    "명시적으로 오류를 감추려는 의도가 아니라면. 모호함을 앞에 두고, 이를 유추하겠다는 유혹을 버려라.<br> \n",
    "어떤 일에든 명확한 - 바람직하며 유일한 - 방법이 존재한다.<br> \n",
    "비록 그대가 우둔하여 그 방법이 처음에는 명확해 보이지 않을지라도.<br> \n",
    "지금 하는게 아예 안하는 것보다 낫다.<br> \n",
    "아예 안하는 것이 지금 *당장*보다 나을 때도 있지만.<br> \n",
    "구현 결과를 설명하기 어렵다면, 그 아이디어는 나쁘다.<br> \n",
    "구현 결과를 설명하기 쉽다면, 그 아이디어는 좋은 아이디어일 수 있다.<br>\n",
    "네임스페이스는 대박 좋은 아이디어다 -- 마구 남용해라! "
   ]
  },
  {
   "cell_type": "markdown",
   "metadata": {},
   "source": [
    "## 1. Object\n",
    "\n",
    "Object 는 Python에서 제공하는 data를 위한 뼈대.<br>\n",
    "Python에서 **\"모든 data는 object로 표현되거나 object의 관계로 표현\"**.<br>\n",
    "모든 \"object는 **identity**, **type**, **value**를 갖음\".<br>\n",
    "\n",
    "예상외로(?) 가장 간단한 object 생성 코드는 아래와 같음."
   ]
  },
  {
   "cell_type": "code",
   "execution_count": 2,
   "metadata": {},
   "outputs": [
    {
     "name": "stdout",
     "output_type": "stream",
     "text": [
      "1\n",
      "2\n",
      "2\n"
     ]
    }
   ],
   "source": [
    "a = 1\n",
    "b = 2\n",
    "c = 2\n",
    "print(a)\n",
    "print(b)\n",
    "print(c)"
   ]
  },
  {
   "cell_type": "markdown",
   "metadata": {},
   "source": [
    "### a) Identity\n",
    "Object의 identity는 절대 바꿀 수 없음. Objcet가 저장된 memory의 주소라 생각해도 무방.<br>\n",
    "**`is` 연산자는 두 object의 identity를 비교**하는 연산자.<br>\n",
    "**`id()` 함수는 object의 identity를 integer로 리턴**.<br>\n",
    "\n",
    "identity 관련 실행코드는 아래와 같다."
   ]
  },
  {
   "cell_type": "code",
   "execution_count": 3,
   "metadata": {},
   "outputs": [
    {
     "name": "stdout",
     "output_type": "stream",
     "text": [
      "ID of a:  1757726448\n",
      "ID of b:  1757726480\n",
      "ID of c:  1757726480 \n",
      "\n",
      "a is a?:  True\n",
      "b is b?:  True\n",
      "a is b?:  False\n",
      "b is c?:  True\n"
     ]
    }
   ],
   "source": [
    "print('ID of a: ', id(a))\n",
    "print('ID of b: ', id(b))\n",
    "print('ID of c: ', id(c), '\\n')\n",
    "print('a is a?: ', a is a)\n",
    "print('b is b?: ', b is b)\n",
    "print('a is b?: ', a is b)\n",
    "print('b is c?: ', b is c)"
   ]
  },
  {
   "cell_type": "markdown",
   "metadata": {},
   "source": [
    "### b) Type\n",
    "\n",
    "Object의 type은 절대 바꿀 수 없음. Type은 object가 지원하는 **\"operation과 가능한 value를 결정\"**.<br>\n",
    "**`type()`함수로 object의 type을 확인 가능.**\n",
    "\n",
    "Type 관련 실행코드는 아래와 같다."
   ]
  },
  {
   "cell_type": "code",
   "execution_count": 4,
   "metadata": {},
   "outputs": [
    {
     "name": "stdout",
     "output_type": "stream",
     "text": [
      "<class 'int'>\n",
      "<class 'int'>\n",
      "<class 'int'>\n"
     ]
    }
   ],
   "source": [
    "type_a = type(a)\n",
    "type_b = type(b)\n",
    "\n",
    "print(type_a)\n",
    "print(type_b)\n",
    "print(type(c))"
   ]
  },
  {
   "cell_type": "markdown",
   "metadata": {},
   "source": [
    "### c) Value\n",
    "Object의 **\"Type에 따라 value는 변하거나 변할 수 없음\"**.<br>\n",
    "Value가 변할 수 있는 object를 **\"mutable\"** 하다고 말함.<br>\n",
    "Value가 변할 수 없는 object를 **\"immutable\"** 하다고 말함.<br>\n",
    "\n",
    "기본 제공되는 Object의 type별로 mutability를 구분하면 아래와 같음.<br>\n",
    "**mutable: dictionaries, lists**<br>\n",
    "**immutable: numbers, strings, tuples**<br> \n",
    "\n",
    "**`==` 연산자는 두 object의 value를 비교**하는 연산자.<br>\n",
    "\n",
    "Mutable type 관련 실행코드는 아래와 같다."
   ]
  },
  {
   "cell_type": "code",
   "execution_count": 17,
   "metadata": {},
   "outputs": [
    {
     "name": "stdout",
     "output_type": "stream",
     "text": [
      "Name \t identity \t type \t values\n",
      "list_a:  2522313031752 <class 'list'> [1, 2, 3, 4, 5]\n",
      "list_b:  2522313031752 <class 'list'> [1, 2, 3, 4, 5]\n",
      "list_c:  2522313032264 <class 'list'> [1, 2, 3, 4, 5]\n",
      "list_a == list_b?:  True | list_a is list_b?:  True\n",
      "list_a == list_c?:  True | list_a is list_c?:  False\n",
      "\n",
      "Name \t identity \t type \t values\n",
      "list_a:  2522313031752 <class 'list'> [1, 2, 3, 4, 5, 6]\n",
      "list_b:  2522313031752 <class 'list'> [1, 2, 3, 4, 5, 6]\n",
      "list_c:  2522313032264 <class 'list'> [1, 2, 3, 4, 5]\n",
      "list_a == list_b?:  True | list_a is list_b?:  True\n",
      "list_a == list_c?:  False | list_a is list_c?:  False\n"
     ]
    }
   ],
   "source": [
    "## Mutable\n",
    "# List\n",
    "list_a = [1,2,3,4,5]\n",
    "list_b = list_a\n",
    "list_c = [1,2,3,4,5]\n",
    "\n",
    "print(\"Name \\t identity \\t type \\t values\")\n",
    "print(\"list_a: \", id(list_a), type(list_a), list_a)\n",
    "print(\"list_b: \", id(list_b), type(list_b), list_b)\n",
    "print(\"list_c: \", id(list_c), type(list_c), list_c)\n",
    "print(\"list_a == list_b?: \", list_a == list_b, \"| list_a is list_b?: \", list_a is list_b)\n",
    "print(\"list_a == list_c?: \", list_a == list_c, \"| list_a is list_c?: \", list_a is list_c)\n",
    "\n",
    "list_b += [6]\n",
    "\n",
    "print(\"\\nName \\t identity \\t type \\t values\")\n",
    "print(\"list_a: \", id(list_a), type(list_a), list_a)\n",
    "print(\"list_b: \", id(list_b), type(list_b), list_b)\n",
    "print(\"list_c: \", id(list_c), type(list_c), list_c)\n",
    "print(\"list_a == list_b?: \", list_a == list_b, \"| list_a is list_b?: \", list_a is list_b)\n",
    "print(\"list_a == list_c?: \", list_a == list_c, \"| list_a is list_c?: \", list_a is list_c)"
   ]
  },
  {
   "cell_type": "markdown",
   "metadata": {},
   "source": [
    "list_a를 참조하고 있는 list_b를 변경하였을때, list_a도 같이 변함을 알 수가 있다.<br>\n",
    "그리고 **\"list_a와 list_b의 identity는 동일\"**하다.<br>\n",
    "하지만 같은 value를 갖는 list_c라는 object는 list_a와 다른 identity를 갖는 것을 알 수 있다.<br>\n",
    "\n",
    "Immutable type 관련 실행코드는 아래와 같다."
   ]
  },
  {
   "cell_type": "code",
   "execution_count": 13,
   "metadata": {},
   "outputs": [
    {
     "name": "stdout",
     "output_type": "stream",
     "text": [
      "Name \t identity \t type \t values\n",
      "tuple_a:  140219804849928 <class 'tuple'> (1, 2)\n",
      "tuple_b:  140219804849928 <class 'tuple'> (1, 2)\n",
      "tuple_c:  140219804851080 <class 'tuple'> (1, 2)\n",
      "tuple_a == tuple_b?:  True | tuple_a is tuple_b?:  True\n",
      "tuple_a == tuple_c?:  True | tuple_a is tuple_c?:  False\n",
      "\n",
      "Name \t identity \t type \t values\n",
      "tuple_a:  140219804849928 <class 'tuple'> (1, 2)\n",
      "tuple_b:  140219805005144 <class 'tuple'> (1, 2, 3)\n",
      "tuple_c:  140219804851080 <class 'tuple'> (1, 2)\n",
      "tuple_a == tuple_b?:  False | tuple_a is tuple_b?:  False\n",
      "tuple_a == tuple_c?:  True | tuple_a is tuple_c?:  False\n",
      "\n",
      "Name \t identity \t type \t values\n",
      "num_a:  94409405902048 <class 'int'> 1\n",
      "num_b:  94409405902048 <class 'int'> 1\n",
      "num_c:  94409405902048 <class 'int'> 1\n",
      "num_a == num_b?:  True | num_a is num_b?:  True\n",
      "num_a == num_c?:  True | num_a is num_c?:  True\n",
      "\n",
      "Name \t identity \t type \t values\n",
      "num_a:  94409405902048 <class 'int'> 1\n",
      "num_b:  94409405902144 <class 'int'> 4\n",
      "num_c:  94409405902048 <class 'int'> 1\n",
      "num_a == num_b?:  False | num_a is num_b?:  False\n",
      "num_a == num_c?:  True | num_a is num_c?:  True\n",
      "\n",
      "the both of 256 ids are same?:  True\n",
      "\n",
      "the 256 id and 257 id are same?:  False\n"
     ]
    }
   ],
   "source": [
    "## Immutable\n",
    "# Tuple\n",
    "tuple_a = (1,2)\n",
    "tuple_b = tuple_a\n",
    "tuple_c = (1,2)\n",
    "\n",
    "print(\"Name \\t identity \\t type \\t values\")\n",
    "print(\"tuple_a: \", id(tuple_a), type(tuple_a), tuple_a)\n",
    "print(\"tuple_b: \", id(tuple_b), type(tuple_b), tuple_b)\n",
    "print(\"tuple_c: \", id(tuple_c), type(tuple_c), tuple_c)\n",
    "print(\"tuple_a == tuple_b?: \", tuple_a == tuple_b,\"| tuple_a is tuple_b?: \", tuple_a is tuple_b)\n",
    "print(\"tuple_a == tuple_c?: \", tuple_a == tuple_c,\"| tuple_a is tuple_c?: \", tuple_a is tuple_c)\n",
    "\n",
    "tuple_b += (3,)\n",
    "\n",
    "print(\"\\nName \\t identity \\t type \\t values\")\n",
    "print(\"tuple_a: \", id(tuple_a), type(tuple_a), tuple_a)\n",
    "print(\"tuple_b: \", id(tuple_b), type(tuple_b), tuple_b)\n",
    "print(\"tuple_c: \", id(tuple_c), type(tuple_c), tuple_c)\n",
    "print(\"tuple_a == tuple_b?: \", tuple_a == tuple_b,\"| tuple_a is tuple_b?: \", tuple_a is tuple_b)\n",
    "print(\"tuple_a == tuple_c?: \", tuple_a == tuple_c,\"| tuple_a is tuple_c?: \", tuple_a is tuple_c)\n",
    "\n",
    "\n",
    "\n",
    "# Number\n",
    "num_a = 1\n",
    "num_b = num_a\n",
    "num_c = 1\n",
    "\n",
    "print(\"\\nName \\t identity \\t type \\t values\")\n",
    "print(\"num_a: \", id(num_a), type(num_a), num_a)\n",
    "print(\"num_b: \", id(num_b), type(num_b), num_b)\n",
    "print(\"num_c: \", id(num_c), type(num_c), num_c)\n",
    "print(\"num_a == num_b?: \", num_a == num_b, \"| num_a is num_b?: \", num_a is num_b)\n",
    "print(\"num_a == num_c?: \", num_a == num_c, \"| num_a is num_c?: \", num_a is num_c)\n",
    "\n",
    "num_b += 3\n",
    "\n",
    "print(\"\\nName \\t identity \\t type \\t values\")\n",
    "print(\"num_a: \", id(num_a), type(num_a), num_a)\n",
    "print(\"num_b: \", id(num_b), type(num_b), num_b)\n",
    "print(\"num_c: \", id(num_c), type(num_c), num_c)\n",
    "print(\"num_a == num_b?: \", num_a == num_b, \"| num_a is num_b?: \", num_a is num_b)\n",
    "print(\"num_a == num_c?: \", num_a == num_c, \"| num_a is num_c?: \", num_a is num_c)\n",
    "\n",
    "num_d = 256\n",
    "num_e = 256\n",
    "\n",
    "print(\"\\nthe both of 256 ids are same?: \", id(num_d) == id(num_e))\n",
    "\n",
    "num_f = 256\n",
    "num_f += 1\n",
    "\n",
    "print(\"\\nthe 256 id and 257 id are same?: \", id(num_e) == id(num_f))\n"
   ]
  },
  {
   "cell_type": "markdown",
   "metadata": {},
   "source": [
    "tuple_a를 참조하고 있는 tuble_b와 num_a를 참조하고 있는 num_b를 변경하면, 변경된 value를 갖는 다른 object로 변화.<br> \n",
    "하지만 immutable type은 주의할 점이 존재.<br>\n",
    "**\"tuple은 같은 value를 갖는 object가 여러개 존재\"** 가능. 하지만 **\"number는 같은 value를 갖는 object는 단 1개\"**.<br>\n",
    "tuple과 number는 서로 다른 memory 정책을 갖음.<br>\n",
    "**number는 256까지만 object가 singletone** 임.  "
   ]
  },
  {
   "cell_type": "markdown",
   "metadata": {},
   "source": [
    "### d) Garbage Collector\n",
    "Object는 절대 명시적으로 파괴될 수 없음. 즉, Python에는 object를 직접 제거하는 메커니즘이 없음.<br>\n",
    "**\"Garbage Collector가 object를 관리.\"**<br>\n",
    "\n",
    "**\"Reference count\"**는 특정 메모리 주소를 참조하는 곳의 수.<br>\n",
    "0이 될 경우, 다음 garbage collection때 메모리에서 해제.<br>\n",
    "\n",
    "**\"Garbage Collection\"**은 필요없는 메모리를 자동으로 해제해 주는 것.<br> \n",
    "Generation으로 나눠서 메모리를 관리. **가장 낮은 generation부터 garbage collection**<br>\n",
    "Reference count와 휴리스틱 등을 메모리 해제 기준으로 이용.<br>\n",
    "\n",
    "`del` 연산자는 **\"변수의 선언을 취소\"**해 주는 연산자.<br>\n",
    "`del` 연산자를 적용했다고 해서 메모리가 해제된 것은 아님.<br> \n",
    "\n",
    "<span style=\"color:green\"><b>TODO</b>: gc의 기능</span>\n",
    "\n",
    "Garbage Collector 관련 코드는 아래와 같다."
   ]
  },
  {
   "cell_type": "code",
   "execution_count": 7,
   "metadata": {},
   "outputs": [
    {
     "name": "stdout",
     "output_type": "stream",
     "text": [
      "14335 14335\n",
      "2\n",
      "1\n",
      "3\n",
      "2\n",
      "14343 14343\n"
     ]
    }
   ],
   "source": [
    "import sys \n",
    "import gc\n",
    "\n",
    "# 1의 메모리 주소를 참조하는 수\n",
    "a=1\n",
    "print(sys.getrefcount(1), sys.getrefcount(a))\n",
    "\n",
    "# 특정 set을 생성\n",
    "f = {'machine', 'learning', 'python'}\n",
    "print(sys.getrefcount(f))\n",
    "print(sys.getrefcount({'machine', 'learning', 'python'}))\n",
    "g = f\n",
    "print(sys.getrefcount(f))\n",
    "del g\n",
    "print(sys.getrefcount(f))\n",
    "print(sys.getrefcount(1), sys.getrefcount(a))"
   ]
  },
  {
   "cell_type": "markdown",
   "metadata": {},
   "source": [
    "특정 set 생성시 처음부터 메모리를 참조하는 곳의 수는 2곳.<br>\n",
    "숫자 1은 Python 내부에서 사용하는 곳이 많기 때문에 약 14,000여개의 참조\n",
    "그리고 숫자 1은 참조하는 곳이 실시간으로 변하는 것으로 보아, garbage collection이 자주 일어나는 것으로 예상<br>"
   ]
  },
  {
   "cell_type": "markdown",
   "metadata": {},
   "source": [
    "## 2. Special method\n",
    "\n",
    "Special method는 사용자 정의 자료형(Class)을 Pythonic하게 사용하기 위한 필수요소.<br>\n",
    "Class에서 정의가 가능하며, Python interpreter가 class에 구현된 special method를 호출하기 때문에 Pythonic하게 사용이 가능.<br>\n",
    "일반적으로 사용자 코드에서 특별 메서드를 직접 호출하는 경우는 많지 않으며, 특별 메서드를 호출해야하는 경우에는 관련된 내장 함수를 호출하는 것이 좋음\n",
    "사용자가 표준 연산을 수행하기 위해 클래스 자체에서 구현한 임의 메서드명을 암기할 필요가 없음.<br>\n",
    "파이썬 표준 라이브러리에서 제공하는 풍부한 기능을 별도로 구현할 필요 없이 바로 사용할 수 있음.<br>\n",
    "특별 메서드를 구현함으로써 사용자가 정의한 객체는 표준 파이썬 시퀀스처럼 작동하므로 반복 및 슬라이싱 등의 핵심 언어 기능을 사용할 수 있다.\n",
    "일부 특별 메서드는 암묵적으로 호출(iter())\n",
    "\n",
    "내장자료형은 이미 special method가 구현이 잘 되어 있기 때문에 Pythonic하게 코딩이 가능.<br>\n",
    "`dir`함수로 내장자료형에 구현된 Special method를 확인가능.<br>"
   ]
  },
  {
   "cell_type": "code",
   "execution_count": 27,
   "metadata": {},
   "outputs": [
    {
     "name": "stdout",
     "output_type": "stream",
     "text": [
      "List:  ['__add__', '__class__', '__contains__', '__delattr__', '__delitem__', '__dir__', '__doc__', '__eq__', '__format__', '__ge__', '__getattribute__', '__getitem__', '__gt__', '__hash__', '__iadd__', '__imul__', '__init__', '__init_subclass__', '__iter__', '__le__', '__len__', '__lt__', '__mul__', '__ne__', '__new__', '__reduce__', '__reduce_ex__', '__repr__', '__reversed__', '__rmul__', '__setattr__', '__setitem__', '__sizeof__', '__str__', '__subclasshook__', 'append', 'clear', 'copy', 'count', 'extend', 'index', 'insert', 'pop', 'remove', 'reverse', 'sort'] \n",
      "\n",
      "Set:  ['__and__', '__class__', '__contains__', '__delattr__', '__dir__', '__doc__', '__eq__', '__format__', '__ge__', '__getattribute__', '__gt__', '__hash__', '__iand__', '__init__', '__init_subclass__', '__ior__', '__isub__', '__iter__', '__ixor__', '__le__', '__len__', '__lt__', '__ne__', '__new__', '__or__', '__rand__', '__reduce__', '__reduce_ex__', '__repr__', '__ror__', '__rsub__', '__rxor__', '__setattr__', '__sizeof__', '__str__', '__sub__', '__subclasshook__', '__xor__', 'add', 'clear', 'copy', 'difference', 'difference_update', 'discard', 'intersection', 'intersection_update', 'isdisjoint', 'issubset', 'issuperset', 'pop', 'remove', 'symmetric_difference', 'symmetric_difference_update', 'union', 'update'] \n",
      "\n",
      "Number:  ['__abs__', '__add__', '__and__', '__bool__', '__ceil__', '__class__', '__delattr__', '__dir__', '__divmod__', '__doc__', '__eq__', '__float__', '__floor__', '__floordiv__', '__format__', '__ge__', '__getattribute__', '__getnewargs__', '__gt__', '__hash__', '__index__', '__init__', '__init_subclass__', '__int__', '__invert__', '__le__', '__lshift__', '__lt__', '__mod__', '__mul__', '__ne__', '__neg__', '__new__', '__or__', '__pos__', '__pow__', '__radd__', '__rand__', '__rdivmod__', '__reduce__', '__reduce_ex__', '__repr__', '__rfloordiv__', '__rlshift__', '__rmod__', '__rmul__', '__ror__', '__round__', '__rpow__', '__rrshift__', '__rshift__', '__rsub__', '__rtruediv__', '__rxor__', '__setattr__', '__sizeof__', '__str__', '__sub__', '__subclasshook__', '__truediv__', '__trunc__', '__xor__', 'bit_length', 'conjugate', 'denominator', 'from_bytes', 'imag', 'numerator', 'real', 'to_bytes'] \n",
      "\n"
     ]
    }
   ],
   "source": [
    "print('List: ', dir([1,2,3]), '\\n')\n",
    "print('Set: ', dir({1,2,3}), '\\n')\n",
    "print('Number: ', dir(1), '\\n')"
   ]
  },
  {
   "cell_type": "markdown",
   "metadata": {},
   "source": [
    "Special method는 dunder(double underbar의 줄임말)라 부르는 __를 앞뒤로 사용하여 표현.<br>\n",
    "\n"
   ]
  },
  {
   "cell_type": "markdown",
   "metadata": {},
   "source": [
    "#### ETC"
   ]
  },
  {
   "cell_type": "code",
   "execution_count": 8,
   "metadata": {},
   "outputs": [
    {
     "name": "stdout",
     "output_type": "stream",
     "text": [
      "He said his name is {name}\n",
      "He said his name is Fred\n"
     ]
    }
   ],
   "source": [
    "name = \"Fred\"\n",
    "print(\"He said his name is {name}\")\n",
    "print(f\"He said his name is {name}\")"
   ]
  },
  {
   "cell_type": "markdown",
   "metadata": {},
   "source": [
    "## References\n",
    "\n",
    "1. [Python 3.6.3, Data model documentation](https://docs.python.org/3.6/reference/datamodel.html)\n",
    "2. [Fluent Python](http://1.droppdf.com/files/X06AR/fluent-python-2015-.pdf)\n",
    "3. [The Hitchhiker's Guide to the Python Memory](https://speakerdeck.com/devunt/the-hitchhikers-guide-to-the-python-memory)"
   ]
  }
 ],
 "metadata": {
  "kernelspec": {
   "display_name": "Python 3",
   "language": "python",
   "name": "python3"
  },
  "language_info": {
   "codemirror_mode": {
    "name": "ipython",
    "version": 3
   },
   "file_extension": ".py",
   "mimetype": "text/x-python",
   "name": "python",
   "nbconvert_exporter": "python",
   "pygments_lexer": "ipython3",
   "version": "3.6.3"
  }
 },
 "nbformat": 4,
 "nbformat_minor": 2
}
